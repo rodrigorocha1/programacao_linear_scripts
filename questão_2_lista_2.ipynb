{
  "nbformat": 4,
  "nbformat_minor": 0,
  "metadata": {
    "colab": {
      "name": "questão 2 lista 2.ipynb",
      "provenance": []
    },
    "kernelspec": {
      "name": "python3",
      "display_name": "Python 3"
    }
  },
  "cells": [
    {
      "cell_type": "code",
      "metadata": {
        "id": "JltdKoryBvJ-",
        "colab_type": "code",
        "colab": {
          "base_uri": "https://localhost:8080/",
          "height": 52
        },
        "outputId": "5641392e-da34-4778-d8e0-b67d5b3cad61"
      },
      "source": [
        "!pip install pymprog"
      ],
      "execution_count": 23,
      "outputs": [
        {
          "output_type": "stream",
          "text": [
            "Requirement already satisfied: pymprog in /usr/local/lib/python3.6/dist-packages (1.1.2)\n",
            "Requirement already satisfied: swiglpk>=1.4.4 in /usr/local/lib/python3.6/dist-packages (from pymprog) (4.65.0)\n"
          ],
          "name": "stdout"
        }
      ]
    },
    {
      "cell_type": "code",
      "metadata": {
        "id": "PhWga2pWCGRn",
        "colab_type": "code",
        "colab": {}
      },
      "source": [
        "import pymprog"
      ],
      "execution_count": 0,
      "outputs": []
    },
    {
      "cell_type": "code",
      "metadata": {
        "id": "BDduAwtSCPh-",
        "colab_type": "code",
        "colab": {
          "base_uri": "https://localhost:8080/",
          "height": 555
        },
        "outputId": "b53eaaff-739a-424d-e1de-00bcac590d5f"
      },
      "source": [
        "from pymprog import *\n",
        "# Definindo os dados de entrada\n",
        "num_tipos_cafe = 2 # Tipos de cafés a ser fabricado\n",
        "quant_graos = 3 # quantidade de grãos\n",
        "\n",
        "\n",
        "R = [7.90, 7.00] # Receita\n",
        "\n",
        "D = [1000, 1000, 750] # Disponibilidade de grãos\n",
        "P = [[0.50, 0.20],\n",
        "     [0.20, 0.50],\n",
        "     [0.30, 0.30]] # Percentuais de grãos (Restrição)\n",
        "\n",
        "begin('cafe')\n",
        "verbose(True)\n",
        "# criando as variáveis\n",
        "x = var('x', num_tipos_cafe)\n",
        "\n",
        "#Função objetivo\n",
        "maximize(sum(R[i] * x[i] for i in range(num_tipos_cafe)))\n",
        "\n",
        "# Restrições\n",
        "for j in range(quant_graos):\n",
        "  sum(P[j][i] * x[i] for i in range(num_tipos_cafe)) <= D[j]\n",
        "\n",
        "# Resolvendo\n",
        "solve()\n",
        "\n",
        "sensitivity()\n",
        "\n",
        "\n",
        "# Apresentando os resultados\n",
        "# Função Objetivo\n",
        "print('Valor ótimo: {}'.format(vobj()))\n",
        "\n",
        "for i in range(num_tipos_cafe):\n",
        "  print('cafe {}: {}'.format(i+1,x[i].primal))\n",
        "\n",
        "end()\n",
        "\n"
      ],
      "execution_count": 40,
      "outputs": [
        {
          "output_type": "stream",
          "text": [
            "Max : 7.9 * x[0] + 7.0 * x[1]\n",
            "R1: 0.5 * x[0] + 0.2 * x[1] <= 1000\n",
            "R2: 0.2 * x[0] + 0.5 * x[1] <= 1000\n",
            "R3: 0.3 * x[0] + 0.3 * x[1] <= 750\n",
            "\n",
            "PyMathProg 1.0 Sensitivity Report Created: 2019/11/16 Sat 18:31PM\n",
            "================================================================================\n",
            "Variable            Activity   Dual.Value     Obj.Coef   Range.From   Range.Till\n",
            "--------------------------------------------------------------------------------\n",
            "*x[0]                1666.67            0          7.9            7         17.5\n",
            "*x[1]                833.333            0            7         3.16          7.9\n",
            "================================================================================\n",
            "Note: rows marked with a * list a basic variable.\n",
            "\n",
            "================================================================================\n",
            "Constraint       Activity Dual.Value  Lower.Bnd  Upper.Bnd RangeLower RangeUpper\n",
            "--------------------------------------------------------------------------------\n",
            " R1                  1000          3       -inf       1000        750       1250\n",
            "*R2                   750          0       -inf       1000        750        750\n",
            " R3                   750    21.3333       -inf        750        600    857.143\n",
            "================================================================================\n",
            "Note: normally, RangeLower is the min for the binding bound, and RangeUpper\n",
            "gives the max value. However, when neither bounds are binding, the row is\n",
            "marked with a *, and RangeLower is the max for Lower.Bnd(whose min is -inf),\n",
            "and RangeUpper is the min for Upper.Bnd(whose max value is inf). Then the\n",
            "columns of RangeLower, RangeUpper and Activity all have identical values.\n",
            "\n",
            "Valor ótimo: 19000.0\n",
            "cafe 1: 1666.6666666666665\n",
            "cafe 2: 833.3333333333334\n"
          ],
          "name": "stdout"
        },
        {
          "output_type": "execute_result",
          "data": {
            "text/plain": [
              "model('cafe') is not the default model."
            ]
          },
          "metadata": {
            "tags": []
          },
          "execution_count": 40
        }
      ]
    }
  ]
}